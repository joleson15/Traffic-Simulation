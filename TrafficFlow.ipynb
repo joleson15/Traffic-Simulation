{
 "cells": [
  {
   "cell_type": "code",
   "execution_count": 2,
   "metadata": {},
   "outputs": [],
   "source": [
    "from collections import deque\n",
    "\n",
    "\n",
    "class Queue:\n",
    "    def __init__(self):\n",
    "        self.buffer = deque()\n",
    "\n",
    "    def enqueue(self, val):\n",
    "        self.buffer.appendleft(val)\n",
    "\n",
    "    def dequeue(self):\n",
    "        return self.buffer.pop()\n",
    "\n",
    "    def is_empty(self):\n",
    "        return len(self.buffer) == 0\n",
    "\n",
    "    def size(self):\n",
    "        return len(self.buffer)\n"
   ]
  },
  {
   "cell_type": "code",
   "execution_count": 3,
   "metadata": {},
   "outputs": [],
   "source": [
    "import random\n",
    "\n",
    "\n",
    "def get_random_direction():\n",
    "\n",
    "    if random.randint(0, 1) == 0:\n",
    "        direction = \"North\"\n",
    "    else:\n",
    "        direction = \"West\"\n",
    "    return direction\n",
    "\n",
    "\n",
    "class Vehicle:\n",
    "\n",
    "    def __init__(self):\n",
    "        self.direction = get_random_direction()\n",
    "\n",
    "    def get_direction(self):\n",
    "        return self.direction\n",
    "\n",
    "\n",
    "class Car(Vehicle):\n",
    "    def __init__(self):\n",
    "        super().__init__()\n",
    "        self.time_cost = 2\n",
    "\n",
    "    def get_time_cost(self):\n",
    "        return self.time_cost\n",
    "\n",
    "\n",
    "class Truck(Vehicle):\n",
    "    def __init__(self):\n",
    "        super().__init__()\n",
    "        self.time_cost = 5\n",
    "\n",
    "    def get_time_cost(self):\n",
    "        return self.time_cost"
   ]
  },
  {
   "cell_type": "code",
   "execution_count": 4,
   "metadata": {},
   "outputs": [
    {
     "ename": "ModuleNotFoundError",
     "evalue": "No module named 'Queue'",
     "output_type": "error",
     "traceback": [
      "\u001b[1;31m---------------------------------------------------------------------------\u001b[0m",
      "\u001b[1;31mModuleNotFoundError\u001b[0m                       Traceback (most recent call last)",
      "\u001b[1;32m<ipython-input-4-517e395b5d20>\u001b[0m in \u001b[0;36m<module>\u001b[1;34m\u001b[0m\n\u001b[1;32m----> 1\u001b[1;33m \u001b[1;32mfrom\u001b[0m \u001b[0mQueue\u001b[0m \u001b[1;32mimport\u001b[0m \u001b[0mQueue\u001b[0m\u001b[1;33m\u001b[0m\u001b[1;33m\u001b[0m\u001b[0m\n\u001b[0m\u001b[0;32m      2\u001b[0m \u001b[1;32mimport\u001b[0m \u001b[0mrandom\u001b[0m\u001b[1;33m\u001b[0m\u001b[1;33m\u001b[0m\u001b[0m\n\u001b[0;32m      3\u001b[0m \u001b[1;32mimport\u001b[0m \u001b[0mVehicle\u001b[0m\u001b[1;33m\u001b[0m\u001b[1;33m\u001b[0m\u001b[0m\n\u001b[0;32m      4\u001b[0m \u001b[1;32mfrom\u001b[0m \u001b[0mVehicle\u001b[0m \u001b[1;32mimport\u001b[0m \u001b[0mCar\u001b[0m\u001b[1;33m,\u001b[0m \u001b[0mTruck\u001b[0m\u001b[1;33m\u001b[0m\u001b[1;33m\u001b[0m\u001b[0m\n\u001b[0;32m      5\u001b[0m \u001b[1;32mimport\u001b[0m \u001b[0mmatplotlib\u001b[0m\u001b[1;33m.\u001b[0m\u001b[0mpyplot\u001b[0m \u001b[1;32mas\u001b[0m \u001b[0mplt\u001b[0m\u001b[1;33m\u001b[0m\u001b[1;33m\u001b[0m\u001b[0m\n",
      "\u001b[1;31mModuleNotFoundError\u001b[0m: No module named 'Queue'"
     ]
    }
   ],
   "source": [
    "from Queue import Queue\n",
    "import random\n",
    "import Vehicle\n",
    "from Vehicle import Car, Truck\n",
    "import matplotlib.pyplot as plt\n",
    "import numpy as np\n",
    "\n",
    "class Simulation(object):\n",
    "    north = Queue()\n",
    "    west = Queue()\n",
    "    cars_in_north = []\n",
    "    cars_in_west = []\n",
    "    \n",
    "    def populate_north(self):\n",
    "        if random.randint(0, 5) == 0:\n",
    "            self.north.enqueue(Car())\n",
    "\n",
    "    def populate_west(self):\n",
    "        if random.randint(0, 5) == 0:\n",
    "            self.west.enqueue(Car())\n",
    "\n",
    "    def process_north(self):\n",
    "        for i in range(5):\n",
    "            if not (self.north.is_empty()):\n",
    "                self.north.dequeue()\n",
    "\n",
    "    def process_west(self):\n",
    "        for i in range(5):\n",
    "            if not (self.west.is_empty()):\n",
    "                self.west.dequeue()\n",
    "\n",
    "    def simulate(self):\n",
    "        time = 0\n",
    "        tc = 0\n",
    "        light = 0\n",
    "        while time < 3600:\n",
    "            self.populate_north()\n",
    "            self.populate_west()\n",
    "\n",
    "            if light == 0 and tc <= 5 and not self.north.is_empty():\n",
    "                self.populate_north()\n",
    "                self.populate_west()\n",
    "                self.north.dequeue()\n",
    "                tc += 1\n",
    "            elif light == 1 & tc <= 5 and not self.west.is_empty():\n",
    "                self.populate_west()\n",
    "                self.populate_north()\n",
    "                self.west.dequeue()\n",
    "                tc += 1\n",
    "            elif light == 0 & tc > 5:\n",
    "                light = 1\n",
    "                tc = 0\n",
    "                self.populate_west()\n",
    "                self.populate_north()\n",
    "            elif light == 1 & tc > 5:\n",
    "                light = 0\n",
    "                tc = 0\n",
    "                self.populate_west()\n",
    "                self.populate_north()\n",
    "            else:\n",
    "                pass\n",
    "\n",
    "            time += 1\n",
    "            self.cars_in_north.append(self.north.size())\n",
    "            self.cars_in_west.append(self.west.size())\n",
    "\n",
    "        print(self.north.size())\n",
    "        print(self.west.size())\n",
    "\n",
    "\n",
    "s = Simulation()\n",
    "s.simulate()\n",
    "len(s.cars_in_north)\n",
    "plot1 = plt.plot(np.arange(0, 3600).tolist(), s.cars_in_north)"
   ]
  },
  {
   "cell_type": "code",
   "execution_count": 11,
   "metadata": {},
   "outputs": [
    {
     "data": {
      "image/png": "[encoded data removed]",
      "text/plain": [
       "<Figure size 432x288 with 2 Axes>"
      ]
     },
     "metadata": {
      "needs_background": "light"
     },
     "output_type": "display_data"
    }
   ],
   "source": [
    "import random\n",
    "import numpy as np\n",
    "import matplotlib.pyplot as plt\n",
    "\n",
    "class Simulation2:\n",
    "    north = 0\n",
    "    west = 0\n",
    "    light = 0\n",
    "    time = 0\n",
    "    tc = 0\n",
    "    cars_north = []\n",
    "    cars_west = []\n",
    "    \n",
    "    \n",
    "    while time < 3600:\n",
    "        if random.randint(0, 10) == 0:\n",
    "            north += 2\n",
    "        if random.randint(0, 10) == 0:\n",
    "            west += 1\n",
    "            \n",
    "        if light == 1 and west > 0:\n",
    "            west -= 1\n",
    "        elif light == 0 and north > 0:\n",
    "            north -= 1\n",
    "        else: pass\n",
    "            \n",
    "        if tc == 5:\n",
    "            tc = 0\n",
    "            if light == 1:\n",
    "                light = 0\n",
    "            else: light = 1\n",
    "                \n",
    "        tc += 1\n",
    "        time += 1\n",
    "        cars_north.append(north)\n",
    "        cars_west.append(west)\n",
    "        \n",
    "   # plt.plot(np.arange(0, 3600).tolist(), cars_north)\n",
    "   # plt.plot(np.arange(0, 3600).tolist(), cars_west)\n",
    "    fig, (ax1, ax2) = plt.subplots(1, 2)\n",
    "    fig.suptitle('Cars Waiting in North & West Queues')\n",
    "    ax1.plot(np.arange(0, 3600).tolist(), cars_north)\n",
    "    ax2.plot(np.arange(0, 3600).tolist(), cars_west, 'tab:orange')"
   ]
  },
  {
   "cell_type": "code",
   "execution_count": 33,
   "metadata": {},
   "outputs": [
    {
     "name": "stdout",
     "output_type": "stream",
     "text": [
      "0.04555555555555556\n"
     ]
    },
    {
     "data": {
      "image/png": "[encoded data removed]",
      "text/plain": [
       "<Figure size 432x288 with 2 Axes>"
      ]
     },
     "metadata": {
      "needs_background": "light"
     },
     "output_type": "display_data"
    }
   ],
   "source": [
    "class Simulation3:\n",
    "    north = 0\n",
    "    west = 0\n",
    "    light = 0\n",
    "    time = 0\n",
    "    tc = 0\n",
    "    tr = 0\n",
    "    tg = 0\n",
    "    cars_north = []\n",
    "    cars_west = []\n",
    "    \n",
    "    \n",
    "    while time < 3600:\n",
    "        north = north + np.random.poisson(1)\n",
    "        \n",
    "        if random.randint(0, 10) == 0:\n",
    "            west += 1\n",
    "            \n",
    "        if light == 1 and west > 0:\n",
    "            west -= 1\n",
    "        elif light == 0 and north > 0:\n",
    "            if north > 1:\n",
    "                north -= 1\n",
    "            else: north -= 1\n",
    "        else: pass\n",
    "            \n",
    "        if abs(north - west) > 5:\n",
    "            if north > west and light == 1:\n",
    "                light = 0\n",
    "            elif west > north and light == 0:\n",
    "                light = 1\n",
    "            else: pass\n",
    "            \n",
    "        if light == 0:\n",
    "            tg += 1\n",
    "        elif light == 1:\n",
    "            tr += 1\n",
    "        else: pass\n",
    "        \n",
    "        tc += 1\n",
    "        \n",
    "        time += 1\n",
    "        cars_north.append(north)\n",
    "        cars_west.append(west)\n",
    "        \n",
    "   # plt.plot(np.arange(0, 3600).tolist(), cars_north)\n",
    "   # plt.plot(np.arange(0, 3600).tolist(), cars_west)\n",
    "    fig, (ax1, ax2) = plt.subplots(1, 2)\n",
    "    fig.suptitle('Cars Waiting in North & West Queues')\n",
    "    ax1.plot(np.arange(0, 3600).tolist(), cars_north)\n",
    "    ax2.plot(np.arange(0, 3600).tolist(), cars_west, 'tab:orange')\n",
    "    fraction = tr/time\n",
    "    print(fraction)"
   ]
  },
  {
   "cell_type": "code",
   "execution_count": 17,
   "metadata": {},
   "outputs": [
    {
     "name": "stdout",
     "output_type": "stream",
     "text": [
      "0.09400055294442909\n"
     ]
    }
   ],
   "source": [
    "#Ratio of cars generated from Poisson Distribution vs uniform distribution\n",
    "\n",
    "x = 0\n",
    "for i in range(3600):\n",
    "    x += np.random.poisson(1)\n",
    "\n",
    "y = 0\n",
    "for j in range(3600):\n",
    "    if random.randint(0, 10) == 0:\n",
    "        y += 1\n",
    "print(y/x)\n",
    "\n"
   ]
  },
  {
   "cell_type": "code",
   "execution_count": null,
   "metadata": {},
   "outputs": [],
   "source": []
  }
 ],
 "metadata": {
  "kernelspec": {
   "display_name": "Python 3",
   "language": "python",
   "name": "python3"
  },
  "language_info": {
   "codemirror_mode": {
    "name": "ipython",
    "version": 3
   },
   "file_extension": ".py",
   "mimetype": "text/x-python",
   "name": "python",
   "nbconvert_exporter": "python",
   "pygments_lexer": "ipython3",
   "version": "3.8.5"
  }
 },
 "nbformat": 4,
 "nbformat_minor": 4
}
